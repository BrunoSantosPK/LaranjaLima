{
 "cells": [
  {
   "cell_type": "code",
   "execution_count": 1,
   "metadata": {},
   "outputs": [],
   "source": [
    "import numpy as np\n",
    "import pandas as pd\n",
    "from typing import List\n",
    "from sklearn.svm import SVR\n",
    "from sklearn.impute import SimpleImputer\n",
    "from sklearn.linear_model import SGDRegressor\n",
    "from sklearn.tree import DecisionTreeRegressor\n",
    "from sklearn.metrics import mean_absolute_error\n",
    "from sklearn.model_selection import train_test_split\n",
    "from sklearn.preprocessing import OneHotEncoder, StandardScaler\n",
    "\n",
    "BASE_PATH = \"/media/bruno/Arquivos/Desenvolvimento/LaranjaLima\""
   ]
  },
  {
   "cell_type": "markdown",
   "metadata": {},
   "source": [
    "## Quanto um cliente de um determinado perfil está disposto a gastar?\n",
    "\n",
    "A ideia é ter uma equação que permita alteração de parâmetros para avaliar o valor que um determinado cliente gastaria em um dado cenário (definido pelos parâmetros). Nesse sentido, nossa target é o campo \"Total Pago (R$)\".\n",
    "\n",
    "O cenário é o conjunto de parâmetros que nós previamente escolhemos para avaliar o potencial de gasto. Em outras palavras, as variáveis que utilizaremos para prever a nossa target. Dessa forma, ele será definido pelos campos:\n",
    "- Perfil do cliente\n",
    "- Categoria de item em campanha de marketing\n",
    "- Desconto total oferecido\n",
    "- Tempo gasto para decisão\n",
    "- Tempo desde a última compra"
   ]
  },
  {
   "cell_type": "code",
   "execution_count": 19,
   "metadata": {},
   "outputs": [],
   "source": [
    "class Pipe:\n",
    "    def __init__(self, df: pd.DataFrame) -> None:\n",
    "        self.__base_data = df\n",
    "        self.__encoder = OneHotEncoder(sparse_output=False)\n",
    "        self.__imputer = SimpleImputer(missing_values=np.nan, strategy=\"mean\")\n",
    "        self.__scaler = StandardScaler()\n",
    "        self.__categorical_columns: List[str] = None\n",
    "        self.__numeric_columns: List[str] = None\n",
    "        self.__target_column: str = None\n",
    "\n",
    "    def set_categorical_columns(self, columns: List[str]) -> None:\n",
    "        self.__categorical_columns = columns\n",
    "\n",
    "    def set_numeric_columns(self, columns: List[str]) -> None:\n",
    "        self.__numeric_columns = columns\n",
    "\n",
    "    def set_target_column(self, column: str) -> None:\n",
    "        self.__target_column = column\n",
    "\n",
    "    def get_categorical_columns(self) -> List[str]:\n",
    "        return [c for c in self.__categorical_columns]\n",
    "    \n",
    "    def get_numeric_columns(self) -> List[str]:\n",
    "        return [c for c in self.__numeric_columns]\n",
    "\n",
    "    def split(self, test=0.3) -> None:\n",
    "        self.train, self.test = train_test_split(self.__base_data, test_size=test, random_state=666)\n",
    "\n",
    "    def fit_preprocess(self) -> None:\n",
    "        np_cat, np_num = self.train[self.__categorical_columns].values, self.train[self.__numeric_columns].values\n",
    "        self.__encoder.fit(np_cat)\n",
    "        self.__imputer.fit(np_num)\n",
    "        self.__scaler.fit(np_num)\n",
    "\n",
    "    def transform_data(self, df: pd.DataFrame) -> np.ndarray:\n",
    "        np_cat, np_num = df[self.__categorical_columns].values, df[self.__numeric_columns].values\n",
    "        np_cat = self.__encoder.transform(np_cat)\n",
    "        np_num = self.__imputer.transform(np_num)\n",
    "        np_num = self.__scaler.transform(np_num)\n",
    "        return np.concatenate((np_cat, np_num), axis=1)\n",
    "    \n",
    "    def train_model(self, model) -> None:\n",
    "        x_train = self.transform_data(self.train)\n",
    "        y_train = self.train[self.__target_column].values\n",
    "        model.fit(x_train, y_train)\n",
    "\n",
    "        x_test = self.transform_data(self.test)\n",
    "        y_test = self.test[self.__target_column].values\n",
    "\n",
    "        print(f\"MAE treino: {mean_absolute_error(y_train, model.predict(x_train))}\")\n",
    "        print(f\"MAE teste: {mean_absolute_error(y_test, model.predict(x_test))}\")\n",
    "\n",
    "    def predict(self, df: pd.DataFrame, model) -> np.ndarray:\n",
    "        x = self.transform_data(df)\n",
    "        return model.predict(x)"
   ]
  },
  {
   "cell_type": "code",
   "execution_count": 20,
   "metadata": {},
   "outputs": [
    {
     "name": "stdout",
     "output_type": "stream",
     "text": [
      "Testando modelo linear\n",
      "MAE treino: 1219.7713183373567\n",
      "MAE teste: 1260.3891670071464\n",
      "\n",
      "Testando modelo de máquinas de suporte\n",
      "MAE treino: 1246.5894557083\n",
      "MAE teste: 1388.836666042846\n",
      "\n",
      "Testando modelo de árvore de decisão\n",
      "MAE treino: 0.0\n",
      "MAE teste: 1632.0538924731184\n"
     ]
    }
   ],
   "source": [
    "dataset = pd.read_csv(f\"{BASE_PATH}/data/ml/ecommerce - python - gasto dos clientes.csv\")\n",
    "pipe = Pipe(dataset)\n",
    "pipe.split(test=0.3)\n",
    "\n",
    "pipe.set_target_column(\"Total Pago (R$)\")\n",
    "pipe.set_categorical_columns([\"Perfil do Cliente\", \"Campanha em Curso\"])\n",
    "pipe.set_numeric_columns([\n",
    "    \"Desconto Total (%)\",\n",
    "    \"Tempo desde a Última Compra (dias)\",\n",
    "    \"Tempo para Finalizar Compra (min)\"\n",
    "])\n",
    "pipe.fit_preprocess()\n",
    "\n",
    "print(\"Testando modelo linear\")\n",
    "linear_model = SGDRegressor(loss=\"squared_error\", penalty=\"l2\", alpha=0.001, eta0=0.001, learning_rate=\"invscaling\")\n",
    "pipe.train_model(linear_model)\n",
    "\n",
    "print(\"\\nTestando modelo de máquinas de suporte\")\n",
    "svm_model = SVR(kernel=\"poly\", C=1, epsilon=0.1, degree=5)\n",
    "pipe.train_model(svm_model)\n",
    "\n",
    "print(\"\\nTestando modelo de árvore de decisão\")\n",
    "dt_model = DecisionTreeRegressor()\n",
    "pipe.train_model(dt_model)"
   ]
  },
  {
   "cell_type": "code",
   "execution_count": 26,
   "metadata": {},
   "outputs": [
    {
     "data": {
      "text/plain": [
       "array([1661.26079669, 1739.04183209, 1855.71338519, 1113.12703583,\n",
       "       1190.90807123, 1307.57962433, 1113.12703583, 1115.08478219,\n",
       "       1117.04252856])"
      ]
     },
     "execution_count": 26,
     "metadata": {},
     "output_type": "execute_result"
    }
   ],
   "source": [
    "columns = pipe.get_categorical_columns()\n",
    "columns.extend(pipe.get_numeric_columns())\n",
    "cases = [\n",
    "    [\"Médio ticket e alta frequência\", \"Eletrodomésticos\", 1, 10, 30],\n",
    "    [\"Médio ticket e alta frequência\", \"Eletrodomésticos\", 1, 10, 20],\n",
    "    [\"Médio ticket e alta frequência\", \"Eletrodomésticos\", 1, 10, 5],\n",
    "\n",
    "    [\"Médio ticket e alta frequência\", \"Livros\", 1, 10, 30],\n",
    "    [\"Médio ticket e alta frequência\", \"Livros\", 1, 10, 20],\n",
    "    [\"Médio ticket e alta frequência\", \"Livros\", 1, 10, 5],\n",
    "\n",
    "    [\"Médio ticket e alta frequência\", \"Livros\", 1, 10, 30],\n",
    "    [\"Médio ticket e alta frequência\", \"Livros\", 1, 20, 30],\n",
    "    [\"Médio ticket e alta frequência\", \"Livros\", 1, 30, 30]\n",
    "]\n",
    "pipe.predict(pd.DataFrame(cases, columns=columns), linear_model)"
   ]
  },
  {
   "cell_type": "code",
   "execution_count": null,
   "metadata": {},
   "outputs": [],
   "source": []
  }
 ],
 "metadata": {
  "kernelspec": {
   "display_name": ".venv",
   "language": "python",
   "name": "python3"
  },
  "language_info": {
   "codemirror_mode": {
    "name": "ipython",
    "version": 3
   },
   "file_extension": ".py",
   "mimetype": "text/x-python",
   "name": "python",
   "nbconvert_exporter": "python",
   "pygments_lexer": "ipython3",
   "version": "3.10.6"
  },
  "orig_nbformat": 4
 },
 "nbformat": 4,
 "nbformat_minor": 2
}
